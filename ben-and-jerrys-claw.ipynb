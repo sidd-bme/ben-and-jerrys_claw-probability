{
 "cells": [
  {
   "cell_type": "code",
   "id": "initial_id",
   "metadata": {
    "collapsed": true,
    "ExecuteTime": {
     "end_time": "2025-09-19T05:47:25.013330Z",
     "start_time": "2025-09-19T05:47:24.375396Z"
    }
   },
   "source": [
    "import numpy as np\n",
    "import pandas as pd\n",
    "import matplotlib.pyplot as plt"
   ],
   "outputs": [],
   "execution_count": 1
  },
  {
   "metadata": {},
   "cell_type": "markdown",
   "source": "Observed number of tries until winning for each recorded session (simulated)",
   "id": "179667a20328b49e"
  },
  {
   "metadata": {
    "ExecuteTime": {
     "end_time": "2025-09-19T05:47:25.021316Z",
     "start_time": "2025-09-19T05:47:25.018656Z"
    }
   },
   "cell_type": "code",
   "source": [
    "data = [6,8,3,7,5,10,2,4,6,9,1,5,7,3,8,23]\n",
    "df = pd.DataFrame({\"tries_to_success\": data})"
   ],
   "id": "5be54580885d1227",
   "outputs": [],
   "execution_count": 2
  },
  {
   "metadata": {},
   "cell_type": "markdown",
   "source": [
    "p_hat = (number of sessions) / (total tries across all sessions)\n",
    "From this we get expected tries and expected cost."
   ],
   "id": "9527543ed31bc0bb"
  },
  {
   "metadata": {
    "ExecuteTime": {
     "end_time": "2025-09-19T05:47:25.030988Z",
     "start_time": "2025-09-19T05:47:25.027389Z"
    }
   },
   "cell_type": "code",
   "source": [
    "n = len(df)\n",
    "sum_k = df[\"tries_to_success\"].sum()\n",
    "p_hat = n/sum_k\n",
    "print(f\"From data: p = {p_hat:}, expected tries = {1/p_hat:}, expected cost = ${1/p_hat:}\")"
   ],
   "id": "1f1ce8e81c5a49e4",
   "outputs": [
    {
     "name": "stdout",
     "output_type": "stream",
     "text": [
      "From data: p = 0.14953271028037382, expected tries = 6.687500000000001, expected cost = $6.687500000000001\n"
     ]
    }
   ],
   "execution_count": 3
  },
  {
   "metadata": {},
   "cell_type": "markdown",
   "source": "To make the histogram smoother, we simulate many sessions using our estimated p.",
   "id": "ab566ae9b49897cf"
  },
  {
   "metadata": {
    "ExecuteTime": {
     "end_time": "2025-09-19T05:47:25.039048Z",
     "start_time": "2025-09-19T05:47:25.036231Z"
    }
   },
   "cell_type": "code",
   "source": [
    "SIMULATE = True\n",
    "if SIMULATE:\n",
    "    rng=np.random.default_rng(42)\n",
    "    N = 500  ##no. of simulations\n",
    "    p_sim=p_hat\n",
    "    sim_k = rng.geometric(p=p_sim, size=N)\n",
    "    df = pd.DataFrame({\"tries_to_success\": sim_k})\n",
    "    print(f\"Using simulation with p = {p_sim:.3f} and {N} sessions\")"
   ],
   "id": "41606adaea076d1e",
   "outputs": [
    {
     "name": "stdout",
     "output_type": "stream",
     "text": [
      "Using simulation with p = 0.150 and 500 sessions\n"
     ]
    }
   ],
   "execution_count": 4
  },
  {
   "metadata": {
    "ExecuteTime": {
     "end_time": "2025-09-19T05:47:25.130845Z",
     "start_time": "2025-09-19T05:47:25.056540Z"
    }
   },
   "cell_type": "code",
   "source": [
    "bins = range(1, int(df[\"tries_to_success\"].max()) + 2)\n",
    "plt.hist(df[\"tries_to_success\"], bins=bins, edgecolor=\"black\", align=\"left\")\n",
    "plt.xlabel(\"Tries until first win\")\n",
    "plt.ylabel(\"Count\")\n",
    "plt.title(\"B&J no. of tries to win\")\n",
    "plt.show()"
   ],
   "id": "85675c1b99fd22a5",
   "outputs": [
    {
     "data": {
      "text/plain": [
       "<Figure size 640x480 with 1 Axes>"
      ],
      "image/png": "[encoded data removed]"
     },
     "metadata": {},
     "output_type": "display_data",
     "jetTransient": {
      "display_id": null
     }
    }
   ],
   "execution_count": 5
  },
  {
   "metadata": {},
   "cell_type": "markdown",
   "source": "Histogram of number of tries until first win.",
   "id": "1325ddfa1f35d86c"
  }
 ],
 "metadata": {
  "kernelspec": {
   "display_name": "Python 3",
   "language": "python",
   "name": "python3"
  },
  "language_info": {
   "codemirror_mode": {
    "name": "ipython",
    "version": 2
   },
   "file_extension": ".py",
   "mimetype": "text/x-python",
   "name": "python",
   "nbconvert_exporter": "python",
   "pygments_lexer": "ipython2",
   "version": "2.7.6"
  }
 },
 "nbformat": 4,
 "nbformat_minor": 5
}
